{
 "cells": [
  {
   "cell_type": "code",
   "execution_count": 2,
   "metadata": {},
   "outputs": [
    {
     "name": "stdout",
     "output_type": "stream",
     "text": [
      "1\n",
      "https://search.naver.com/search.naver?where=news&query=코로나&sort=1&field=1&ds=2022.05.20&de=2022.06.03&nso=so%3Ar%2Cp%3Afrom20220520to20220603%2Ca%3A&start=1\n",
      "https://news.naver.com/main/read.naver?mode=LSD&mid=sec&sid1=102&oid=417&aid=0000819454\n",
      "https://news.naver.com/main/read.naver?mode=LSD&mid=sec&sid1=102&oid=417&aid=0000819454\n",
      "list index out of range\n",
      "https://news.naver.com/main/read.naver?mode=LSD&mid=sec&sid1=100&oid=001&aid=0013226272\n",
      "https://news.naver.com/main/read.naver?mode=LSD&mid=sec&sid1=100&oid=001&aid=0013226272\n",
      "list index out of range\n"
     ]
    }
   ],
   "source": [
    "import requests\n",
    "from bs4 import BeautifulSoup\n",
    "import json\n",
    "import re\n",
    "import sys\n",
    "import time, random\n",
    "import pandas as pd\n",
    "\n",
    "header = {\n",
    "    'User-Agent': 'Mozilla/5.0 (Windows NT 10.0; Win64; x64) AppleWebKit/537.36 (KHTML, like Gecko) Chrome/58.0.3029.110 Safari/537.36'\n",
    "}\n",
    "\n",
    "def get_news(news_url):\n",
    "    news_detail = []\n",
    "    print(news_url)\n",
    "    req = requests.get(news_url, headers=header)\n",
    "    soup = BeautifulSoup(req.content, 'html.parser')\n",
    "\n",
    "    # 제목\n",
    "    title = soup.select('h3#articleTitle')[0].text\n",
    "    news_detail.append(title)\n",
    "\n",
    "    # 날짜 \n",
    "    pdate = soup.select('.t11')[0].get_text()[:11]\n",
    "    news_detail.append(pdate)\n",
    "\n",
    "    # 본문\n",
    "    _text = soup.select('#articleBodyContents')[0].get_text().replace('\\n', \" \")\n",
    "    text = _text.replace(\"// flash 오류를 우회하기 위한 함수 추가 function _flash_removeCallback() {}\", \"\")\n",
    "    news_detail.append(text.strip())\n",
    "\n",
    "    # 언론사\n",
    "    pcompany = soup.select('div.article_footer')[0].a.get_text().split()[0].strip()\n",
    "    news_detail.append(pcompany)\n",
    "\n",
    "    return news_detail\n",
    "\n",
    "columns = ['날짜', '신문사', '제목', '내용']\n",
    "df = pd.DataFrame(columns=columns)\n",
    "\n",
    "query = '코로나'   # url 인코딩 에러는 encoding parse.quote(query)\n",
    "s_date = \"2022.05.20\"\n",
    "e_date = \"2022.06.03\"\n",
    "s_from = s_date.replace(\".\", \"\")\n",
    "e_to = e_date.replace(\".\", \"\")\n",
    "page = 1\n",
    "\n",
    "while True:\n",
    "    time.sleep(random.sample(range(3), 1)[0])\n",
    "    print(page)\n",
    "\n",
    "    url = \"https://search.naver.com/search.naver?where=news&query=\" + query + \\\n",
    "        \"&sort=1&field=1&ds=\" + s_date + \"&de=\" + e_date + \\\n",
    "        \"&nso=so%3Ar%2Cp%3Afrom\" + s_from + \"to\" + e_to + \\\n",
    "        \"%2Ca%3A&start=\" + str(page)\n",
    "\n",
    "    req = requests.get(url, headers=header)\n",
    "    print(url)\n",
    "    cont = req.content\n",
    "    soup = BeautifulSoup(cont, 'html.parser')\n",
    "\n",
    "    naver_news = soup.find_all(\"a\", {\"class\": \"info\"})\n",
    "    if naver_news == []:\n",
    "        break\n",
    "\n",
    "    for a_tag in naver_news:\n",
    "        try:\n",
    "            news_url = a_tag.attrs[\"href\"]\n",
    "            if news_url.startswith(\"https://news.naver.com\"):\n",
    "                print(news_url)\n",
    "                news_detail = get_news(news_url)\n",
    "                print(news_detail)\n",
    "                #df = df.append(pd.DataFrame(\n",
    "                #    [[news_detail[1], news_detail[3], news_detail[0], news_detail[2]]], columns=columns))\n",
    "        except Exception as e:\n",
    "            print(e)\n",
    "            continue\n",
    "    break\n",
    "    \n",
    "    page += 10"
   ]
  },
  {
   "cell_type": "code",
   "execution_count": 11,
   "metadata": {},
   "outputs": [
    {
     "name": "stdout",
     "output_type": "stream",
     "text": [
      "https://news.naver.com/main/read.naver?mode=LSD&mid=sec&sid1=102&oid=001&aid=0013113075\n",
      "[\"코로나19 이후 2년 만에 해제된 '특별여행주의보'\", '2022.04.14.', '(영종도=연합뉴스) 김도훈 기자 = 정부가 코로나19 확산 이후 2년여 만에 특별여행주의보를 해제한 14일 오전 인천국제공항 제1여객터미널 출국장에서 탑승객들이 출국 수속을 밟고 있다.         이에 따라 싱가포르, 캐나다 등 22개 나라와 괌과 사이판 등 2개 지역은 여행경보 1단계로 하향 조정되며, 미국 본토, 영국, 독일 등 129개 나라는 여행경보 2단계로 조정된다.    한편 중국과 러시아 등 26개국은 특별여행주의보가 유지되며, 기존 여행경보 3단계(출국권고) 및 4단계(여행금지) 발령 국가와 지역은 현 단계가 유지된다. 2022.4.14    superdoo82@yna.co.kr', '연합뉴스']\n"
     ]
    }
   ],
   "source": [
    "news_detail = get_news(\"https://news.naver.com/main/read.naver?mode=LSD&mid=sec&sid1=102&oid=001&aid=0013113075\")\n",
    "print(news_detail)"
   ]
  },
  {
   "cell_type": "code",
   "execution_count": null,
   "metadata": {},
   "outputs": [],
   "source": []
  }
 ],
 "metadata": {
  "interpreter": {
   "hash": "7787f9e30bc81f9e254587048cdcdb9de44901a88641a4d943af7369a91b3a04"
  },
  "kernelspec": {
   "display_name": "Python 3.8.13 ('py38')",
   "language": "python",
   "name": "python3"
  },
  "language_info": {
   "codemirror_mode": {
    "name": "ipython",
    "version": 3
   },
   "file_extension": ".py",
   "mimetype": "text/x-python",
   "name": "python",
   "nbconvert_exporter": "python",
   "pygments_lexer": "ipython3",
   "version": "3.8.13"
  },
  "orig_nbformat": 4
 },
 "nbformat": 4,
 "nbformat_minor": 2
}
