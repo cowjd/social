{
 "cells": [
  {
   "cell_type": "code",
   "execution_count": 19,
   "metadata": {},
   "outputs": [
    {
     "name": "stdout",
     "output_type": "stream",
     "text": [
      "1\n",
      "https://search.naver.com/search.naver?where=news&query=코로나&sort=1&field=1&ds=2022.04.08&de=2022.04.14&nso=so%3Ar%2Cp%3Afrom20220408to20220414%2Ca%3A&start=1\n",
      "https://news.naver.com/main/read.naver?mode=LSD&mid=sec&sid1=104&oid=003&aid=0011123971\n"
     ]
    },
    {
     "name": "stderr",
     "output_type": "stream",
     "text": [
      "/tmp/ipykernel_1584/1544418458.py:87: FutureWarning: The frame.append method is deprecated and will be removed from pandas in a future version. Use pandas.concat instead.\n",
      "  df = df.append(pd.DataFrame(\n"
     ]
    },
    {
     "name": "stdout",
     "output_type": "stream",
     "text": [
      "(0, '')\n",
      "https://news.naver.com/main/read.naver?mode=LSD&mid=sec&sid1=103&oid=144&aid=0000806208\n"
     ]
    },
    {
     "name": "stderr",
     "output_type": "stream",
     "text": [
      "/tmp/ipykernel_1584/1544418458.py:87: FutureWarning: The frame.append method is deprecated and will be removed from pandas in a future version. Use pandas.concat instead.\n",
      "  df = df.append(pd.DataFrame(\n"
     ]
    },
    {
     "name": "stdout",
     "output_type": "stream",
     "text": [
      "(0, '')\n",
      "https://news.naver.com/main/read.naver?mode=LSD&mid=sec&sid1=104&oid=052&aid=0001726631\n"
     ]
    },
    {
     "name": "stderr",
     "output_type": "stream",
     "text": [
      "/tmp/ipykernel_1584/1544418458.py:87: FutureWarning: The frame.append method is deprecated and will be removed from pandas in a future version. Use pandas.concat instead.\n",
      "  df = df.append(pd.DataFrame(\n"
     ]
    },
    {
     "name": "stdout",
     "output_type": "stream",
     "text": [
      "(0, '')\n",
      "https://news.naver.com/main/read.naver?mode=LSD&mid=sec&sid1=102&oid=056&aid=0011248626\n"
     ]
    },
    {
     "name": "stderr",
     "output_type": "stream",
     "text": [
      "/tmp/ipykernel_1584/1544418458.py:87: FutureWarning: The frame.append method is deprecated and will be removed from pandas in a future version. Use pandas.concat instead.\n",
      "  df = df.append(pd.DataFrame(\n"
     ]
    },
    {
     "name": "stdout",
     "output_type": "stream",
     "text": [
      "(0, '')\n",
      "https://news.naver.com/main/read.naver?mode=LSD&mid=sec&sid1=104&oid=421&aid=0006030231\n",
      "(0, '')\n"
     ]
    },
    {
     "name": "stderr",
     "output_type": "stream",
     "text": [
      "/tmp/ipykernel_1584/1544418458.py:87: FutureWarning: The frame.append method is deprecated and will be removed from pandas in a future version. Use pandas.concat instead.\n",
      "  df = df.append(pd.DataFrame(\n"
     ]
    }
   ],
   "source": [
    "import requests\n",
    "from bs4 import BeautifulSoup\n",
    "import json\n",
    "import re\n",
    "import sys\n",
    "import time, random\n",
    "import pandas as pd\n",
    "import pymysql\n",
    "\n",
    "\n",
    "\n",
    "\n",
    "header = {\n",
    "    'User-Agent': 'Mozilla/5.0 (Windows NT 10.0; Win64; x64) AppleWebKit/537.36 (KHTML, like Gecko) Chrome/58.0.3029.110 Safari/537.36'\n",
    "}\n",
    "\n",
    "def get_news(news_url):\n",
    "    news_detail = []\n",
    "    print(news_url)\n",
    "    req = requests.get(news_url, headers=header)\n",
    "    soup = BeautifulSoup(req.content, 'html.parser')\n",
    "\n",
    "    # 제목\n",
    "    title = soup.select('h3#articleTitle')[0].text\n",
    "    news_detail.append(title)\n",
    "\n",
    "    # 날짜 \n",
    "    pdate = soup.select('.t11')[0].get_text()[:11]\n",
    "    news_detail.append(pdate)\n",
    "\n",
    "    # 본문\n",
    "    _text = soup.select('#articleBodyContents')[\n",
    "        0].get_text().replace('\\n', \" \")\n",
    "    text = _text.replace(\n",
    "        \"// flash 오류를 우회하기 위한 함수 추가 function _flash_removeCallback() {}\", \"\")\n",
    "    news_detail.append(text.strip())\n",
    "\n",
    "    # 언론사\n",
    "    pcompany = soup.select('div.article_footer')[\n",
    "        0].a.get_text().split()[0].strip()\n",
    "    news_detail.append(pcompany)\n",
    "\n",
    "    return news_detail\n",
    "\n",
    "columns = ['날짜', '신문사', '제목', '내용']\n",
    "df = pd.DataFrame(columns=columns)\n",
    "\n",
    "query = '코로나'   # url 인코딩 에러는 encoding parse.quote(query)\n",
    "s_date = \"2022.04.08\"\n",
    "e_date = \"2022.04.14\"\n",
    "s_from = s_date.replace(\".\", \"\")\n",
    "e_to = e_date.replace(\".\", \"\")\n",
    "page = 1\n",
    "\n",
    "# MySQL\n",
    "conn = pymysql.connect(host='localhost',\n",
    "                       port=3306,\n",
    "                       user='social',\n",
    "                       passwd='socialpassword',\n",
    "                       db='socialdb')\n",
    "\n",
    "while True:\n",
    "    time.sleep(random.sample(range(3), 1)[0])\n",
    "    print(page)\n",
    "\n",
    "    url = \"https://search.naver.com/search.naver?where=news&query=\" + query + \\\n",
    "        \"&sort=1&field=1&ds=\" + s_date + \"&de=\" + e_date + \\\n",
    "        \"&nso=so%3Ar%2Cp%3Afrom\" + s_from + \"to\" + e_to + \\\n",
    "        \"%2Ca%3A&start=\" + str(page)\n",
    "\n",
    "    req = requests.get(url, headers=header)\n",
    "    print(url)\n",
    "    cont = req.content\n",
    "    soup = BeautifulSoup(cont, 'html.parser')\n",
    "\n",
    "    naver_news = soup.find_all(\"a\", {\"class\": \"info\"})\n",
    "    if naver_news == []:\n",
    "        break\n",
    "\n",
    "    for a_tag in naver_news:\n",
    "        try:                \n",
    "            news_url = a_tag.attrs[\"href\"]\n",
    "            if news_url.startswith(\"https://news.naver.com\"):\n",
    "                # print(news_url)\n",
    "                news_detail = get_news(news_url)\n",
    "                # print(news_detail)\n",
    "                df = df.append(pd.DataFrame(\n",
    "                    [[news_detail[1], news_detail[3], news_detail[0], news_detail[2]]], columns=columns))\n",
    "                # print(news_detail)\n",
    "\n",
    "                cur = con.cursor()\n",
    "                sql = \"insert into `news_articles` (`pub_date`, `publisher`, `title`, `contents`) values (%s, %s, %s, %s)\"\n",
    "                # print(sql)\n",
    "                cur.execute(\n",
    "                    sql, (news_detail[1], news_detail[3], news_detail[0], news_detail[2])\n",
    "                )\n",
    "\n",
    "                con.commit()\n",
    "\n",
    "        except Exception as e:\n",
    "            print(e)\n",
    "            continue\n",
    "\n",
    "   \n",
    "        \n",
    "    break\n",
    "    \n",
    "    page += 10\n",
    "\n",
    "\n",
    "\n"
   ]
  },
  {
   "cell_type": "code",
   "execution_count": 16,
   "metadata": {},
   "outputs": [
    {
     "name": "stdout",
     "output_type": "stream",
     "text": [
      "1\n",
      "https://search.naver.com/search.naver?where=news&query=코로나&sort=1&field=1&ds=2020.04.01&de=2020.04.08&nso=so%3Ar%2Cp%3Afrom20200401to20200408%2Ca%3A&start=1\n"
     ]
    }
   ],
   "source": [
    "import requests\n",
    "from bs4 import BeautifulSoup\n",
    "import json\n",
    "import re\n",
    "import sys\n",
    "import time\n",
    "import random\n",
    "import pandas as pd\n",
    "import pymysql\n",
    "\n",
    "def get_news(n_url):\n",
    "    news_detail = []\n",
    "    print(n_url)\n",
    "    breq = requests.get(n_url)\n",
    "    bsoup = BeautifulSoup(breq.content, 'html.parser')\n",
    "\n",
    "    # 제목 파싱\n",
    "    title = bsoup.select('h3#articleTitle')[0].text\n",
    "    news_detail.append(title)\n",
    "\n",
    "    # 날짜\n",
    "    pdate = bsoup.select('.t11')[0].get_text()[:11]\n",
    "    news_detail.append(pdate)\n",
    "\n",
    "    # news text\n",
    "    _text = bsoup.select('#articleBodyContents')[\n",
    "        0].get_text().replace('\\n', \" \")\n",
    "    btext = _text.replace(\n",
    "        \"// flash 오류를 우회하기 위한 함수 추가 function _flash_removeCallback() {}\", \"\")\n",
    "    news_detail.append(btext.strip())\n",
    "\n",
    "    # 신문사\n",
    "    pcompany = bsoup.select('#footer address')[0].a.get_text()\n",
    "    news_detail.append(pcompany)\n",
    "\n",
    "    return news_detail\n",
    "\n",
    "\n",
    "columns = ['날짜', '신문사', '제목', '내용']\n",
    "df = pd.DataFrame(columns=columns)\n",
    "\n",
    "query = '코로나'   # url 인코딩 에러는 encoding parse.quote(query)\n",
    "s_date = \"2020.04.01\"\n",
    "e_date = \"2020.04.08\"\n",
    "s_from = s_date.replace(\".\", \"\")\n",
    "e_to = e_date.replace(\".\", \"\")\n",
    "page = 1\n",
    "\n",
    "# MySQL\n",
    "connection = pymysql.connect(host='localhost',\n",
    "                             port=3306,\n",
    "                             user='social',\n",
    "                             passwd='socialpassword',\n",
    "                             db='socialdb')\n",
    "\n",
    "while True:\n",
    "    time.sleep(random.sample(range(3), 1)[0])\n",
    "    print(page)\n",
    "\n",
    "    url = \"https://search.naver.com/search.naver?where=news&query=\" + query + \"&sort=1&field=1&ds=\" + s_date + \"&de=\" + e_date + \\\n",
    "        \"&nso=so%3Ar%2Cp%3Afrom\" + s_from + \"to\" + \\\n",
    "        e_to + \"%2Ca%3A&start=\" + str(page)\n",
    "\n",
    "    header = {\n",
    "        'User-Agent': 'Mozilla/5.0 (Windows NT 10.0; Win64; x64) AppleWebKit/537.36 (KHTML, like Gecko) Chrome/58.0.3029.110 Safari/537.36'\n",
    "    }\n",
    "\n",
    "    req = requests.get(url, headers=header)\n",
    "    print(url)\n",
    "    cont = req.content\n",
    "    soup = BeautifulSoup(cont, 'html.parser')\n",
    "\n",
    "    if soup.findAll(\"a\", {\"class\": \"_sp_each_url\"}) == []:\n",
    "        break\n",
    "\n",
    "    for urls in soup.findAll(\"a\", {\"class\": \"_sp_each_url\"}):\n",
    "        try:\n",
    "            if urls.attrs[\"href\"].startswith(\"https://news.naver.com\"):\n",
    "                print(urls.attrs[\"href\"])\n",
    "                news_detail = get_news(urls.attrs[\"href\"])\n",
    "                df = df.append(pd.DataFrame(\n",
    "                    [[news_detail[1], news_detail[3], news_detail[0], news_detail[2]]], columns=columns))\n",
    "                print(news_detail)\n",
    "                cursor = connection.cursor()\n",
    "                sql = \"insert into `news_articles` (`pub_date`, `publisher`, `title`, `contents`) values (%s, %s, %s, %s)\"\n",
    "                print(sql)\n",
    "                cursor.execute(\n",
    "                    sql, (news_detail[1], news_detail[3], news_detail[0], news_detail[2]))\n",
    "                #cursor.execute(\n",
    "                #    sql, ('2020.01.01.', '연합뉴스', 'title_test', 'contents_test'))\n",
    "                connection.commit()\n",
    "        except Exception as e:\n",
    "            print(e)\n",
    "            continue\n",
    "        if (len(df) == 1):\n",
    "            break\n",
    "    page += 10\n",
    "    break\n",
    "\n",
    "connection.close()"
   ]
  },
  {
   "cell_type": "code",
   "execution_count": null,
   "metadata": {},
   "outputs": [],
   "source": []
  }
 ],
 "metadata": {
  "interpreter": {
   "hash": "31f2aee4e71d21fbe5cf8b01ff0e069b9275f58929596ceb00d14d90e3e16cd6"
  },
  "kernelspec": {
   "display_name": "Python 3.8.10 64-bit",
   "language": "python",
   "name": "python3"
  },
  "language_info": {
   "codemirror_mode": {
    "name": "ipython",
    "version": 3
   },
   "file_extension": ".py",
   "mimetype": "text/x-python",
   "name": "python",
   "nbconvert_exporter": "python",
   "pygments_lexer": "ipython3",
   "version": "3.8.13"
  },
  "orig_nbformat": 4
 },
 "nbformat": 4,
 "nbformat_minor": 2
}
