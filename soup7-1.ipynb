{
 "cells": [
  {
   "cell_type": "code",
   "execution_count": 9,
   "metadata": {},
   "outputs": [
    {
     "name": "stdout",
     "output_type": "stream",
     "text": [
      "1\n",
      "https://search.naver.com/search.naver?where=news&query=코로나&sort=1&field=1&ds=2022.04.08&de=2022.04.14&nso=so%3Ar%2Cp%3Afrom20220408to20220414%2Ca%3A&start=1\n",
      "https://news.naver.com/main/read.naver?mode=LSD&mid=sec&sid1=102&oid=001&aid=0013113075\n",
      "https://news.naver.com/main/read.naver?mode=LSD&mid=sec&sid1=102&oid=001&aid=0013113075\n",
      "[\"코로나19 이후 2년 만에 해제된 '특별여행주의보'\", '2022.04.14.', '(영종도=연합뉴스) 김도훈 기자 = 정부가 코로나19 확산 이후 2년여 만에 특별여행주의보를 해제한 14일 오전 인천국제공항 제1여객터미널 출국장에서 탑승객들이 출국 수속을 밟고 있다.         이에 따라 싱가포르, 캐나다 등 22개 나라와 괌과 사이판 등 2개 지역은 여행경보 1단계로 하향 조정되며, 미국 본토, 영국, 독일 등 129개 나라는 여행경보 2단계로 조정된다.    한편 중국과 러시아 등 26개국은 특별여행주의보가 유지되며, 기존 여행경보 3단계(출국권고) 및 4단계(여행금지) 발령 국가와 지역은 현 단계가 유지된다. 2022.4.14    superdoo82@yna.co.kr', '연합뉴스']\n",
      "https://news.naver.com/main/read.naver?mode=LSD&mid=sec&sid1=102&oid=001&aid=0013113079\n",
      "https://news.naver.com/main/read.naver?mode=LSD&mid=sec&sid1=102&oid=001&aid=0013113079\n",
      "[\"코로나19 이후 2년만 해제된 '특별여행주의보'\", '2022.04.14.', '(영종도=연합뉴스) 김도훈 기자 = 정부가 코로나19 확산 이후 2년여 만에 특별여행주의보를 해제한 14일 오전 인천국제공항 제1여객터미널 출국장에서 탑승객들이 출국수속을 밟고 있다.    이에 따라 싱가포르, 캐나다 등 22개 나라와 괌과 사이판 등 2개 지역은 여행경보 1단계로 하향 조정되며, 미국 본토, 영국, 독일 등 129개 나라는 여행경보 2단계로 조정된다.    한편 중국과 러시아 등 26개국은 특별여행주의보가 유지되며, 기존 여행경보 3단계(출국권고) 및 4단계(여행금지) 발령 국가와 지역은 현 단계가 유지된다. 2022.4.14    superdoo82@yna.co.kr', '연합뉴스']\n",
      "https://news.naver.com/main/read.naver?mode=LSD&mid=sec&sid1=102&oid=001&aid=0013113073\n",
      "https://news.naver.com/main/read.naver?mode=LSD&mid=sec&sid1=102&oid=001&aid=0013113073\n",
      "[\"코로나19 이후 2년 만에 해제된 '특별여행주의보'\", '2022.04.14.', '(영종도=연합뉴스) 김도훈 기자 = 정부가 코로나19 확산 이후 2년여 만에 특별여행주의보를 해제한 14일 오전 인천국제공항 제1여객터미널 출국장에서 탑승객들이 출국 수속을 밟고 있다.         이에 따라 싱가포르, 캐나다 등 22개 나라와 괌과 사이판 등 2개 지역은 여행경보 1단계로 하향 조정되며, 미국 본토, 영국, 독일 등 129개 나라는 여행경보 2단계로 조정된다.    한편 중국과 러시아 등 26개국은 특별여행주의보가 유지되며, 기존 여행경보 3단계(출국권고) 및 4단계(여행금지) 발령 국가와 지역은 현 단계가 유지된다. 2022.4.14    superdoo82@yna.co.kr', '연합뉴스']\n",
      "https://news.naver.com/main/read.naver?mode=LSD&mid=sec&sid1=102&oid=469&aid=0000669468\n",
      "https://news.naver.com/main/read.naver?mode=LSD&mid=sec&sid1=102&oid=469&aid=0000669468\n",
      "['\"당신이 진정한 코로나19 영웅\"', '2022.04.14.', '구태헌 안동의료원 진료처장2020년 2월부터 지금까지 사투\"동료 의료진·직원 사명감에환자·지역민 응원 덕분에 버텨\"구태헌 안동의료원 진료처장\"격리병동에 들어갈 때 입는 레벨D 보호복이 무거웠지만 사투를 벌이는 환자분들의 우울감과 불안한 마음으로 꽉찬 병동의 분위기가 더 무겁게 느껴졌다\"구태헌(52) 안동의료원 코로나 전담병동 진료처장은 코로나19 발생 초기부터 지금까지 코로나19 환자 진료를 진두지휘하면서 \"응원해 주신 지역민들이 있었기에 견딜수 있었다\"고 회상했다.신종 코로나바이러스감염증(코로나 19)이 경북으로 덮치기 시작한 2020년 2월20일 경북도립 안동의료원에도 첫 환자가 입원했다. 안동의료원에는 지금까지 총 3,968명이 입원했으며, 전원 140명, 사망 103명, 예방접종 1만3,852명, 선별진료소 2,561명, 재택치료 3만7,789명 등을 관리했다. 환자 중 최고령은 106세, 최연소는 6세이다.구 처장은 \"국내 첫 환자가 발생한 2020년 1월20일 이후 며칠 만에 대구경북을 중심으로 코로나19 확진자가 급격히 확산됨에 따라 우리 의료원은 최일선에서 감염병 확산 방지와 치료를 위해 싸워왔다\"고 말했다.코로나19가 끝날 것처럼 끝나지 않고 벌써 3년이라는 시간이 지나고 있다. 지금까지 한번도 쉼없이 달려올 수 있었던 것은 사스, 메르스를 거치면서 민간병원이 보유하지 않은 감염병 대응 노하우가 있었기 때문이다.구 처장은 \"사명감을 가지고 자신을 희생하고 헌신해 왔던 동료 의료진과 직원들이 함께 했고 환자들의 협조, 지역민의 응원이 있었기에 견딜 수 있었다\"고 말했다.구 처장은 \"엄마와 함께 확진돼 입원한 여자아이, 학교생활 중 확진돼 병원 입원 중에도 온라인 수업을 듣던 대견한 아이들을 보면서 어려운 상황속에서도 긍정적 생각으로 하루 하루를 살아가는 아이를 보면서 하루빨리 일상으로 돌아가는 날이 왔으면 좋겠다는 생각을 했다\"고 덧붙였다.그동안 진료를 하면서 매번 가장 안타까운 마음이 든 것은 역시 사망자가 발생하는 일이었다. 구 처장은 \"환자가 상급병실에서 집중적 치료가 필요한데 병실 부족으로 전원 대기 중에 사망하는 경우와 고령에 만성질환까지 있어 보호자가 조기에 치료를 포기하고 사망한 경우 가장 마음이 아팠다\"며 \"코로나19 확진으로 사망한 경우 제대로 된 장례식도 치르지 못하고 모니터를 보면서 헤어짐을 슬퍼하고 울부짖던 호보자의 모습이 아직도 기억에 생생히 남아 있다\"고 안타까운 심경을 드러냈다.안동의료원은 코로나19 초기 전국에서 확진자들이 몰려들었다.구 처장은 \"안동을 중심으로 의성 청송 영양 군위 예천은 물론 멀리는 전북 전주, 강원 태백 등 전국에서 병상 부족으로 안동의료원에 입원하는 환자들이 많았다\"고 말했다. \"2020년 2월 감염병 전담병원으로 지정된 이후 우리 병원을 찾아주시는 일반 환자들에게는 한동안 정상적인 진료를 하지 못해 장기간 불편을 드려 죄송스러운 마음도 있었다\"고 어려움을 밝혀혔다.고령의 환자들은 정신적 심리적으로 부정적인 생각을 갖고 있어 회복이 더딘 경우가 많다. 그래서 고안한 것이 \\'파이팅 외치기\\'였다.구 처장은 \"환자들의 지친 마음을 잠시라도 즐겁게 해드리고 싶은 생각에 두꺼운 N95 마스크가 뚫어지도록 큰 소리로 \\'어무이, 아부지 파이팅! 힘내세요\\' 외치면 고령의 환자들도 웃으로 따라 외치기도 했다\"고 한다. 무거운 회진 분위기가 잠시라도 바뀔 때면 자신이 더 큰 위로를 받는다. 코로나19가 끝날 때까지 파이팅 구호를 멈추지 않을 작정이다.구태헌 안동의료원 코로나 전담병동 진료처장은 \"누군가 건강한 모습으로 회복되어 집으로 돌아가는 발걸음을 보는 것이 내가 이 직업을 선택한 이유이고 내 삶의 소명이 아닐까 생각한다\"고 의사의 소명의식을 다시한번 일깨웠다.', '한국일보']\n",
      "https://news.naver.com/main/read.naver?mode=LSD&mid=sec&sid1=102&oid=001&aid=0013113078\n",
      "https://news.naver.com/main/read.naver?mode=LSD&mid=sec&sid1=102&oid=001&aid=0013113078\n",
      "[\"정부, 오늘부터 '특별여행주의보' 해제…코로나19 이후 2년만\", '2022.04.14.', '(영종도=연합뉴스) 김도훈 기자 = 정부가 코로나19 확산 이후 2년여 만에 특별여행주의보를 해제한 14일 오전 인천국제공항 제1여객터미널 출국장에 여행주의보 관련 안내가 띄워져 있다.         이에 따라 싱가포르, 캐나다 등 22개 나라와 괌과 사이판 등 2개 지역은 여행경보 1단계로 하향 조정되며, 미국 본토, 영국, 독일 등 129개 나라는 여행경보 2단계로 조정된다.    한편 중국과 러시아 등 26개국은 특별여행주의보가 유지되며, 기존 여행경보 3단계(출국권고) 및 4단계(여행금지) 발령 국가와 지역은 현 단계가 유지된다. 2022.4.14    superdoo82@yna.co.kr', '연합뉴스']\n",
      "https://news.naver.com/main/read.naver?mode=LSD&mid=sec&sid1=102&oid=001&aid=0013113074\n",
      "https://news.naver.com/main/read.naver?mode=LSD&mid=sec&sid1=102&oid=001&aid=0013113074\n",
      "[\"코로나19 이후 2년 만에 해제된 '특별여행주의보'\", '2022.04.14.', '(영종도=연합뉴스) 김도훈 기자 = 정부가 코로나19 확산 이후 2년여 만에 특별여행주의보를 해제한 14일 오전 인천국제공항 제1여객터미널 출국장에서 탑승객들이 출국 수속을 밟고 있다.         이에 따라 싱가포르, 캐나다 등 22개 나라와 괌과 사이판 등 2개 지역은 여행경보 1단계로 하향 조정되며, 미국 본토, 영국, 독일 등 129개 나라는 여행경보 2단계로 조정된다.    한편 중국과 러시아 등 26개국은 특별여행주의보가 유지되며, 기존 여행경보 3단계(출국권고) 및 4단계(여행금지) 발령 국가와 지역은 현 단계가 유지된다. 2022.4.14    superdoo82@yna.co.kr', '연합뉴스']\n",
      "https://news.naver.com/main/read.naver?mode=LSD&mid=sec&sid1=102&oid=001&aid=0013113077\n",
      "https://news.naver.com/main/read.naver?mode=LSD&mid=sec&sid1=102&oid=001&aid=0013113077\n",
      "[\"코로나19 이후 2년만 해제된 '특별여행주의보'\", '2022.04.14.', '(영종도=연합뉴스) 김도훈 기자 = 정부가 코로나19 확산 이후 2년여 만에 특별여행주의보를 해제한 14일 오전 인천국제공항 제1여객터미널 출국장에서 탑승객들이 출국수속을 밟고 있다.    이에 따라 싱가포르, 캐나다 등 22개 나라와 괌과 사이판 등 2개 지역은 여행경보 1단계로 하향 조정되며, 미국 본토, 영국, 독일 등 129개 나라는 여행경보 2단계로 조정된다.    한편 중국과 러시아 등 26개국은 특별여행주의보가 유지되며, 기존 여행경보 3단계(출국권고) 및 4단계(여행금지) 발령 국가와 지역은 현 단계가 유지된다. 2022.4.14    superdoo82@yna.co.kr', '연합뉴스']\n",
      "https://news.naver.com/main/read.naver?mode=LSD&mid=sec&sid1=104&oid=018&aid=0005190013\n",
      "https://news.naver.com/main/read.naver?mode=LSD&mid=sec&sid1=104&oid=018&aid=0005190013\n",
      "['\"코로나 재확산 우려\"…미 대중교통 마스크 의무화 2주 더 연장', '2022.04.14.', '5월3일까지…스텔스 오미크론 확산 가능성미국 코로나 감염 늘어…CDC \"상황 평가중\"[이데일리 김혜미 기자] 미국이 대중교통 마스크 착용 의무기간을 2주 더 연장했다. 최근 코로나19 오미크론 하위 변종인 BA.2(스텔스 오미크론) 감염이 늘어난 데 따른 것이다.13일(현지시간) 주요 외신에 따르면 미 교통안전청(TSA)은 대중교통 마스크 의무화 조치를 5월3일까지 2주 연장한다고 밝혔다. 이는 미 질병통제예방센터(CDC)가 조치 연장을 권고한 데 따른 것이다. 뉴욕 지하철에서 시민들이 마스크를 착용하고 있는 모습. 사진 AFP아시시 K.자 신임 백악관 코로나 대응조정관은 뉴욕타임스(NYT)와 인터뷰에서 “코로나바이러스 변종인 BA.2가 미국에서 잔물결에 그칠 것인지 혹은 파도가 될 것인지 여부를 평가하는 데 추가적인 시간이 필요하다”면서 “CDC는 이 정보를 활용해 마스크 착용 의무기간을 추가로 연장할 것인지 여부를 결정할 것”이라고 설명했다. 그는 “지금처럼 감염자 숫자가 상대적으로 낮다면 마스크 의무화를 해제하는 것이 합리적”이라고도 덧붙였다.CDC는 BA.2가 현재 미국 내 신규 바이러스 감염의 85% 이상을 차지한다고 밝혔다. 최근 미국 내 코로나19 감염사례는 다시 늘고 있는데, 지난 12일 기준 미국의 코로나19 신규 확진자 수는 하루평균 3만1000명 이상을 기록해 2주 전보다 8% 이상 늘었다. 아직 지난 겨울 오미크론 유행 당시 수치에는 미치지 못하지만, 자가 테스트 결과가 공식 집계에 합산되지 않는다는 점을 감안하면 실제 수치는 더 많을 수 있다.한편 최근 수개월간 항공사와 숙박업계는 마스크 착용 의무화 규제를 없애기 위해 공을 들여왔다. 지난 8일 미국 8개 항공사 연합과 미국여행협회, 미 상공회의소 등은 자 조정관에게 관련 내용을 담은 서한을 보낸 것으로 알려졌다.', '이데일리']\n",
      "https://news.naver.com/main/read.naver?mode=LSD&mid=sec&sid1=102&oid=002&aid=0002239104\n",
      "https://news.naver.com/main/read.naver?mode=LSD&mid=sec&sid1=102&oid=002&aid=0002239104\n",
      "['경기, 코로나19 신규확진 3만7996명…확산세 꺾이나', '2022.04.14.', '경기지역 코로나19 신규 확진자가 어제(13일) 하루 동안 3만7996명이 발생했다. 전날보다 1만3800명 줄어 확산세가 꺾이는 양상이다. 경기도는 14일 0시 기준 코로나19 신규 확진자가 3만7996명이 늘어 누적 확진자는 440만5483명으로 집계됐다고 밝혔다. 사망자는 69명이 나와 누적 사망자는 5283명으로 늘어났다. ▲코로나19 백신접종 모습.(자료사진) ⓒ경기도 도내 시·군별 신규 확진자 현황은 △수원 3433명 △화성 3098명 △용인 2893명 △성남 2795명 △고양 2732명 △부천 2215명 △안산 1804명 △평택 1672명 △남양주 1653명 △안양 1537명 △파주 1496명 △김포 1434명 △시흥 1427명 △의정부 1148명 △광주 921명 △광명 821명 △오산 730명 △하남 718명 △이천 704명 △군포 702명 △양주 592명 △포천 574명 △안성 546명 △의왕 455명 △구리 453명 △양평 338명 △여주 312명 △동두천 264명 △과천 209명 △가평 201명 △연천 119명 등이다. 도내 의료기관 격리병상은 6919병상 중 2620병상이 사용 중이며, 가동률은 37.9%로 나타났다. 중증 병상은 874병상 중 425병상 사용, 가동률은 전날보다 2.10%p 낮은 48.6%로 나타났다. 생활치료센터 11개소 가동률은 17.0%며, 재택치료 중인 확진자는 24만7800명으로 집계됐다.', '프레시안']\n",
      "https://news.naver.com/main/read.naver?mode=LSD&mid=sec&sid1=102&oid=001&aid=0013113076\n",
      "https://news.naver.com/main/read.naver?mode=LSD&mid=sec&sid1=102&oid=001&aid=0013113076\n",
      "[\"정부, 오늘부터 '특별여행주의보' 해제…코로나19 이후 2년만\", '2022.04.14.', '(영종도=연합뉴스) 김도훈 기자 = 정부가 코로나19 확산 이후 2년여 만에 특별여행주의보를 해제한 14일 오전 인천국제공항 제1여객터미널 출국장에 여행주의보 관련 안내가 띄워져 있다.         이에 따라 싱가포르, 캐나다 등 22개 나라와 괌과 사이판 등 2개 지역은 여행경보 1단계로 하향 조정되며, 미국 본토, 영국, 독일 등 129개 나라는 여행경보 2단계로 조정된다.    한편 중국과 러시아 등 26개국은 특별여행주의보가 유지되며, 기존 여행경보 3단계(출국권고) 및 4단계(여행금지) 발령 국가와 지역은 현 단계가 유지된다. 2022.4.14    superdoo82@yna.co.kr', '연합뉴스']\n"
     ]
    }
   ],
   "source": [
    "import requests\n",
    "from bs4 import BeautifulSoup\n",
    "import json\n",
    "import re\n",
    "import sys\n",
    "import time, random\n",
    "import pandas as pd\n",
    "\n",
    "header = {\n",
    "    'User-Agent': 'Mozilla/5.0 (Windows NT 10.0; Win64; x64) AppleWebKit/537.36 (KHTML, like Gecko) Chrome/58.0.3029.110 Safari/537.36'\n",
    "}\n",
    "\n",
    "def get_news(news_url):\n",
    "    news_detail = []\n",
    "    print(news_url)\n",
    "    req = requests.get(news_url, headers=header)\n",
    "    soup = BeautifulSoup(req.content, 'html.parser')\n",
    "\n",
    "    # 제목\n",
    "    title = soup.select('h3#articleTitle')[0].text\n",
    "    news_detail.append(title)\n",
    "\n",
    "    # 날짜 \n",
    "    pdate = soup.select('.t11')[0].get_text()[:11]\n",
    "    news_detail.append(pdate)\n",
    "\n",
    "    # 본문\n",
    "    _text = soup.select('#articleBodyContents')[\n",
    "        0].get_text().replace('\\n', \" \")\n",
    "    text = _text.replace(\n",
    "        \"// flash 오류를 우회하기 위한 함수 추가 function _flash_removeCallback() {}\", \"\")\n",
    "    news_detail.append(text.strip())\n",
    "\n",
    "    # 언론사\n",
    "    pcompany = soup.select('div.article_footer')[\n",
    "        0].a.get_text().split()[0].strip()\n",
    "    news_detail.append(pcompany)\n",
    "\n",
    "    return news_detail\n",
    "\n",
    "columns = ['날짜', '신문사', '제목', '내용']\n",
    "df = pd.DataFrame(columns=columns)\n",
    "\n",
    "query = '코로나'   # url 인코딩 에러는 encoding parse.quote(query)\n",
    "s_date = \"2022.04.08\"\n",
    "e_date = \"2022.04.14\"\n",
    "s_from = s_date.replace(\".\", \"\")\n",
    "e_to = e_date.replace(\".\", \"\")\n",
    "page = 1\n",
    "\n",
    "while True:\n",
    "    time.sleep(random.sample(range(3), 1)[0])\n",
    "    print(page)\n",
    "\n",
    "    url = \"https://search.naver.com/search.naver?where=news&query=\" + query + \\\n",
    "        \"&sort=1&field=1&ds=\" + s_date + \"&de=\" + e_date + \\\n",
    "        \"&nso=so%3Ar%2Cp%3Afrom\" + s_from + \"to\" + e_to + \\\n",
    "        \"%2Ca%3A&start=\" + str(page)\n",
    "\n",
    "    req = requests.get(url, headers=header)\n",
    "    print(url)\n",
    "    cont = req.content\n",
    "    soup = BeautifulSoup(cont, 'html.parser')\n",
    "\n",
    "    naver_news = soup.find_all(\"a\", {\"class\": \"info\"})\n",
    "    if naver_news == []:\n",
    "        break\n",
    "\n",
    "    for a_tag in naver_news:\n",
    "        try:\n",
    "            news_url = a_tag.attrs[\"href\"]\n",
    "            if news_url.startswith(\"https://news.naver.com\"):\n",
    "                print(news_url)\n",
    "                news_detail = get_news(news_url)\n",
    "                print(news_detail)\n",
    "                #df = df.append(pd.DataFrame(\n",
    "                #    [[news_detail[1], news_detail[3], news_detail[0], news_detail[2]]], columns=columns))\n",
    "        except Exception as e:\n",
    "            print(e)\n",
    "            continue\n",
    "    break\n",
    "    \n",
    "    page += 10"
   ]
  },
  {
   "cell_type": "code",
   "execution_count": 11,
   "metadata": {},
   "outputs": [
    {
     "name": "stdout",
     "output_type": "stream",
     "text": [
      "https://news.naver.com/main/read.naver?mode=LSD&mid=sec&sid1=102&oid=001&aid=0013113075\n",
      "[\"코로나19 이후 2년 만에 해제된 '특별여행주의보'\", '2022.04.14.', '(영종도=연합뉴스) 김도훈 기자 = 정부가 코로나19 확산 이후 2년여 만에 특별여행주의보를 해제한 14일 오전 인천국제공항 제1여객터미널 출국장에서 탑승객들이 출국 수속을 밟고 있다.         이에 따라 싱가포르, 캐나다 등 22개 나라와 괌과 사이판 등 2개 지역은 여행경보 1단계로 하향 조정되며, 미국 본토, 영국, 독일 등 129개 나라는 여행경보 2단계로 조정된다.    한편 중국과 러시아 등 26개국은 특별여행주의보가 유지되며, 기존 여행경보 3단계(출국권고) 및 4단계(여행금지) 발령 국가와 지역은 현 단계가 유지된다. 2022.4.14    superdoo82@yna.co.kr', '연합뉴스']\n"
     ]
    }
   ],
   "source": [
    "news_detail = get_news(\"https://news.naver.com/main/read.naver?mode=LSD&mid=sec&sid1=102&oid=001&aid=0013113075\")\n",
    "print(news_detail)"
   ]
  },
  {
   "cell_type": "code",
   "execution_count": null,
   "metadata": {},
   "outputs": [],
   "source": []
  }
 ],
 "metadata": {
  "interpreter": {
   "hash": "7787f9e30bc81f9e254587048cdcdb9de44901a88641a4d943af7369a91b3a04"
  },
  "kernelspec": {
   "display_name": "Python 3.8.13 ('py38')",
   "language": "python",
   "name": "python3"
  },
  "language_info": {
   "codemirror_mode": {
    "name": "ipython",
    "version": 3
   },
   "file_extension": ".py",
   "mimetype": "text/x-python",
   "name": "python",
   "nbconvert_exporter": "python",
   "pygments_lexer": "ipython3",
   "version": "3.8.13"
  },
  "orig_nbformat": 4
 },
 "nbformat": 4,
 "nbformat_minor": 2
}
