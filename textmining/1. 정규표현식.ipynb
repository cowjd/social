{
 "cells": [
  {
   "cell_type": "markdown",
   "metadata": {},
   "source": [
    "## 정규표현식\n",
    "- 텍스트 문자열을 어떠한 패턴으로 파악하여 식별하는 데 쓰임\n",
    "- 문자열이 주어진 규칙에 일치하는지, 일치하지 않는지 판단할 수 있음\n",
    "- re 라이브러리 이용\n",
    "    - compile 함수를 통해 정규 표현식을 익힌 후 findall 함수로 정규 표현식에 부합하는 문자열을 찾음"
   ]
  },
  {
   "cell_type": "code",
   "execution_count": 2,
   "metadata": {},
   "outputs": [
    {
     "data": {
      "text/plain": [
       "['aaaa', 'aabbb']"
      ]
     },
     "execution_count": 2,
     "metadata": {},
     "output_type": "execute_result"
    }
   ],
   "source": [
    "# findall() : 정규식과 매치되는 모든 문자열(substring)를 리스트로 리턴\n",
    "import re\n",
    "\n",
    "p = re.compile('a+b*')  \n",
    "# a가 + 한번 이상 나와야함, b는 * 나와도 되고 안나와도 되지만 나오면 연속적으로 나와야 함\n",
    "p.findall('aaaa, cc, bbbb, aabbb')"
   ]
  },
  {
   "cell_type": "code",
   "execution_count": 5,
   "metadata": {},
   "outputs": [
    {
     "data": {
      "text/plain": [
       "['HOME', 'H']"
      ]
     },
     "execution_count": 5,
     "metadata": {},
     "output_type": "execute_result"
    }
   ],
   "source": [
    "p = re.compile('[A-Z]+')\n",
    "# []중에 + 하나 이상 나오면 됨\n",
    "p.findall('HOME, home, Home')"
   ]
  },
  {
   "cell_type": "code",
   "execution_count": 3,
   "metadata": {},
   "outputs": [
    {
     "data": {
      "text/plain": [
       "['abc']"
      ]
     },
     "execution_count": 3,
     "metadata": {},
     "output_type": "execute_result"
    }
   ],
   "source": [
    "p = re.compile('^a..')\n",
    "# ^ 첫 자가 a이고 .. 아무거나 두 개가 오면 됨 (ps) $a 는 끝자가 a\n",
    "p.findall('abc, cba')"
   ]
  },
  {
   "cell_type": "code",
   "execution_count": 4,
   "metadata": {},
   "outputs": [
    {
     "data": {
      "text/plain": [
       "['aabb', 'aaabb']"
      ]
     },
     "execution_count": 4,
     "metadata": {},
     "output_type": "execute_result"
    }
   ],
   "source": [
    "p = re.compile('a{2,3}b{2,3}')\n",
    "# a가 {2번 혹은 3번} 나오면 됨, b또한 {2번 혹은 3번} 나오면 됨\n",
    "p.findall('aabb, aaabb, ab, aab')"
   ]
  },
  {
   "cell_type": "code",
   "execution_count": 5,
   "metadata": {},
   "outputs": [
    {
     "data": {
      "text/plain": [
       "'http:'"
      ]
     },
     "execution_count": 5,
     "metadata": {},
     "output_type": "execute_result"
    }
   ],
   "source": [
    "# 전방 탐색\n",
    "# search(): 문자열 전체를 검색하여 정규식과 매치되는지 조사\n",
    "#            Match 오브젝트 리턴\n",
    "# Match 오브젝트 메소드\n",
    "# - group() : 매치된 문자열을 리턴함.\n",
    "# - start() : 매치된 문자열의 시작 위치를 리턴함.\n",
    "# - end() : 매치된 문자열의 끝 위치를 리턴함.\n",
    "# - span() : 매치된 문자열의 (시작, 끝)에 해당하는 투플을 리턴함.\n",
    "p = re.compile('.+:')\n",
    "# 앞에 뭐가 있던 :으로 되어 있는 부분을 찾으려는 것\n",
    "m = p.search('http://google.com')\n",
    "m.group()"
   ]
  },
  {
   "cell_type": "code",
   "execution_count": 7,
   "metadata": {},
   "outputs": [
    {
     "data": {
      "text/plain": [
       "'http'"
      ]
     },
     "execution_count": 7,
     "metadata": {},
     "output_type": "execute_result"
    }
   ],
   "source": [
    "# 긍정형 전방 탐색(?=...)\n",
    "# :을 찾고싶은데 검색결과 http:에서 :을 제외하고 출력하려면...\n",
    "p = re.compile('.+(?=:)')\n",
    "# 패턴을 나타낼 때엔 쓰지만 실제엔 제외함\n",
    "m = p.search('http://google.com')\n",
    "m.group()"
   ]
  },
  {
   "cell_type": "code",
   "execution_count": 9,
   "metadata": {},
   "outputs": [
    {
     "data": {
      "text/plain": [
       "'그의 물건에 손대지 마시오.'"
      ]
     },
     "execution_count": 9,
     "metadata": {},
     "output_type": "execute_result"
    }
   ],
   "source": [
    "p = re.compile('(내|나의|내꺼)')\n",
    "# 교체 대상\n",
    "p.sub('그의', '나의 물건에 손대지 마시오.')\n",
    "# sub로 문자를 교체함"
   ]
  }
 ],
 "metadata": {
  "interpreter": {
   "hash": "7787f9e30bc81f9e254587048cdcdb9de44901a88641a4d943af7369a91b3a04"
  },
  "kernelspec": {
   "display_name": "Python 3.8.13 ('py38')",
   "language": "python",
   "name": "python3"
  },
  "language_info": {
   "codemirror_mode": {
    "name": "ipython",
    "version": 3
   },
   "file_extension": ".py",
   "mimetype": "text/x-python",
   "name": "python",
   "nbconvert_exporter": "python",
   "pygments_lexer": "ipython3",
   "version": "3.8.13"
  },
  "orig_nbformat": 4
 },
 "nbformat": 4,
 "nbformat_minor": 2
}
